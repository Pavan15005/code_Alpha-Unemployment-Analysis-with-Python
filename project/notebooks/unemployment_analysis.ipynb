{
 "cells": [
  {
   "cell_type": "markdown",
   "metadata": {},
   "source": [
    "# Unemployment Rate Analysis\n",
    "\n",
    "This notebook provides a comprehensive analysis of unemployment rate data, focusing on:\n",
    "- Data cleaning and exploration\n",
    "- Trend analysis\n",
    "- COVID-19 impact assessment\n",
    "- Seasonal pattern identification\n",
    "- Policy insights and recommendations\n",
    "\n",
    "## Table of Contents\n",
    "1. [Data Loading and Preprocessing](#data-loading)\n",
    "2. [Exploratory Data Analysis](#eda)\n",
    "3. [Trend Analysis](#trends)\n",
    "4. [COVID-19 Impact Analysis](#covid)\n",
    "5. [Seasonal Analysis](#seasonal)\n",
    "6. [Policy Insights](#policy)\n",
    "7. [Conclusions](#conclusions)"
   ]
  },
  {
   "cell_type": "code",
   "execution_count": null,
   "metadata": {},
   "outputs": [],
   "source": [
    "# Import required libraries\n",
    "import sys\n",
    "import os\n",
    "sys.path.append('../src')\n",
    "\n",
    "import pandas as pd\n",
    "import numpy as np\n",
    "import matplotlib.pyplot as plt\n",
    "import seaborn as sns\n",
    "import plotly.graph_objects as go\n",
    "import plotly.express as px\n",
    "from plotly.subplots import make_subplots\n",
    "\n",
    "# Import custom modules\n",
    "from data_loader import UnemploymentDataLoader\n",
    "from analysis import UnemploymentAnalyzer\n",
    "from visualizations import UnemploymentVisualizer\n",
    "\n",
    "# Configure display options\n",
    "pd.set_option('display.max_columns', None)\n",
    "pd.set_option('display.width', None)\n",
    "plt.style.use('seaborn-v0_8')\n",
    "sns.set_palette(\"husl\")\n",
    "\n",
    "# Suppress warnings\n",
    "import warnings\n",
    "warnings.filterwarnings('ignore')\n",
    "\n",
    "print(\"Libraries imported successfully!\")"
   ]
  },
  {
   "cell_type": "markdown",
   "metadata": {},
   "source": [
    "## 1. Data Loading and Preprocessing {#data-loading}\n",
    "\n",
    "Let's start by loading and preprocessing our unemployment data."
   ]
  },
  {
   "cell_type": "code",
   "execution_count": null,
   "metadata": {},
   "outputs": [],
   "source": [
    "# Initialize data loader\n",
    "loader = UnemploymentDataLoader('../data/unemployment_data.csv')\n",
    "\n",
    "# Load and preprocess data\n",
    "data = loader.preprocess_data()\n",
    "\n",
    "# Display basic information\n",
    "print(\"Dataset Shape:\", data.shape)\n",
    "print(\"\\nColumn Names:\")\n",
    "print(data.columns.tolist())\n",
    "\n",
    "# Display first few rows\n",
    "print(\"\\nFirst 10 rows:\")\n",
    "data.head(10)"
   ]
  },
  {
   "cell_type": "code",
   "execution_count": null,
   "metadata": {},
   "outputs": [],
   "source": [
    "# Get data summary\n",
    "summary = loader.get_data_summary()\n",
    "\n",
    "print(\"=== DATA SUMMARY ===\")\n",
    "print(f\"Total Records: {summary['total_records']}\")\n",
    "print(f\"Date Range: {summary['date_range']['start']} to {summary['date_range']['end']}\")\n",
    "print(f\"\\nUnemployment Statistics:\")\n",
    "for key, value in summary['unemployment_stats'].items():\n",
    "    print(f\"  {key.replace('_', ' ').title()}: {value:.2f}%\")\n",
    "\n",
    "print(f\"\\nCOVID-19 Impact:\")\n",
    "for key, value in summary['covid_impact'].items():\n",
    "    print(f\"  {key.replace('_', ' ').title()}: {value:.2f}%\")"
   ]
  },
  {
   "cell_type": "markdown",
   "metadata": {},
   "source": [
    "## 2. Exploratory Data Analysis {#eda}\n",
    "\n",
    "Let's explore the basic characteristics of our unemployment data."
   ]
  },
  {
   "cell_type": "code",
   "execution_count": null,
   "metadata": {},
   "outputs": [],
   "source": [
    "# Basic statistics\n",
    "print(\"Unemployment Rate Statistics:\")\n",
    "print(data['Unemployment_Rate'].describe())\n",
    "\n",
    "# Check for missing values\n",
    "print(\"\\nMissing Values:\")\n",
    "print(data.isnull().sum())\n",
    "\n",
    "# Data types\n",
    "print(\"\\nData Types:\")\n",
    "print(data.dtypes)"
   ]
  },
  {
   "cell_type": "code",
   "execution_count": null,
   "metadata": {},
   "outputs": [],
   "source": [
    "# Create basic visualization\n",
    "fig, axes = plt.subplots(2, 2, figsize=(15, 10))\n",
    "\n",
    "# Time series plot\n",
    "axes[0, 0].plot(data['Date'], data['Unemployment_Rate'], linewidth=2)\n",
    "axes[0, 0].set_title('Unemployment Rate Over Time')\n",
    "axes[0, 0].set_ylabel('Unemployment Rate (%)')\n",
    "axes[0, 0].tick_params(axis='x', rotation=45)\n",
    "axes[0, 0].grid(True, alpha=0.3)\n",
    "\n",
    "# Distribution\n",
    "axes[0, 1].hist(data['Unemployment_Rate'], bins=20, alpha=0.7, edgecolor='black')\n",
    "axes[0, 1].set_title('Distribution of Unemployment Rates')\n",
    "axes[0, 1].set_xlabel('Unemployment Rate (%)')\n",
    "axes[0, 1].set_ylabel('Frequency')\n",
    "\n",
    "# Box plot by year\n",
    "yearly_data = [data[data['Year'] == year]['Unemployment_Rate'].values for year in data['Year'].unique()]\n",
    "axes[1, 0].boxplot(yearly_data, labels=data['Year'].unique())\n",
    "axes[1, 0].set_title('Unemployment Rate Distribution by Year')\n",
    "axes[1, 0].set_ylabel('Unemployment Rate (%)')\n",
    "axes[1, 0].tick_params(axis='x', rotation=45)\n",
    "\n",
    "# Rate changes\n",
    "axes[1, 1].bar(data['Date'], data['Rate_Change'], alpha=0.7)\n",
    "axes[1, 1].set_title('Month-over-Month Rate Changes')\n",
    "axes[1, 1].set_ylabel('Rate Change (pp)')\n",
    "axes[1, 1].axhline(y=0, color='red', linestyle='--', alpha=0.7)\n",
    "axes[1, 1].tick_params(axis='x', rotation=45)\n",
    "\n",
    "plt.tight_layout()\n",
    "plt.show()"
   ]
  },
  {
   "cell_type": "markdown",
   "metadata": {},
   "source": [
    "## 3. Trend Analysis {#trends}\n",
    "\n",
    "Now let's analyze the trends in unemployment data across different periods."
   ]
  },
  {
   "cell_type": "code",
   "execution_count": null,
   "metadata": {},
   "outputs": [],
   "source": [
    "# Initialize analyzer\n",
    "analyzer = UnemploymentAnalyzer(data)\n",
    "\n",
    "# Perform trend analysis\n",
    "trend_results = analyzer.trend_analysis()\n",
    "\n",
    "print(\"=== TREND ANALYSIS RESULTS ===\")\n",
    "print(f\"Overall Trend Direction: {trend_results['overall_trend']['direction']}\")\n",
    "print(f\"Linear Slope: {trend_results['overall_trend']['linear_slope']:.6f} per month\")\n",
    "print(f\"Linear R²: {trend_results['overall_trend']['linear_r2']:.4f}\")\n",
    "print(f\"Polynomial R²: {trend_results['overall_trend']['polynomial_r2']:.4f}\")\n",
    "\n",
    "print(\"\\n=== PERIOD-SPECIFIC TRENDS ===\")\n",
    "for period, stats in trend_results['period_trends'].items():\n",
    "    period_name = period.replace('_', ' ').title()\n",
    "    print(f\"\\n{period_name}:\")\n",
    "    print(f\"  Slope: {stats['slope']:.4f} per month\")\n",
    "    print(f\"  R²: {stats['r_squared']:.4f}\")\n",
    "    print(f\"  Total Change: {stats['change']:.2f} percentage points\")\n",
    "    print(f\"  Start Rate: {stats['start_rate']:.2f}%\")\n",
    "    print(f\"  End Rate: {stats['end_rate']:.2f}%\")"
   ]
  },
  {
   "cell_type": "code",
   "execution_count": null,
   "metadata": {},
   "outputs": [],
   "source": [
    "# Visualize trends\n",
    "viz = UnemploymentVisualizer(data)\n",
    "viz.plot_unemployment_trend()"
   ]
  },
  {
   "cell_type": "markdown",
   "metadata": {},
   "source": [
    "## 4. COVID-19 Impact Analysis {#covid}\n",
    "\n",
    "Let's analyze the specific impact of COVID-19 on unemployment rates."
   ]
  },
  {
   "cell_type": "code",
   "execution_count": null,
   "metadata": {},
   "outputs": [],
   "source": [
    "# Perform COVID impact analysis\n",
    "covid_results = analyzer.covid_impact_analysis()\n",
    "\n",
    "print(\"=== COVID-19 IMPACT ANALYSIS ===\")\n",
    "\n",
    "print(\"\\nPeriod Statistics:\")\n",
    "for period, stats in covid_results['period_statistics'].items():\n",
    "    period_name = period.replace('_', ' ').title()\n",
    "    print(f\"\\n{period_name}:\")\n",
    "    print(f\"  Mean: {stats['mean']:.2f}%\")\n",
    "    print(f\"  Std Dev: {stats['std']:.2f}%\")\n",
    "    print(f\"  Min: {stats['min']:.2f}%\")\n",
    "    print(f\"  Max: {stats['max']:.2f}%\")\n",
    "    if 'peak_date' in stats:\n",
    "        print(f\"  Peak Date: {stats['peak_date'].strftime('%Y-%m')}\")\n",
    "\n",
    "print(\"\\nImpact Metrics:\")\n",
    "impact = covid_results['impact_metrics']\n",
    "print(f\"Peak Impact (Absolute): +{impact['peak_impact_absolute']:.2f} percentage points\")\n",
    "print(f\"Peak Impact (Percentage): +{impact['peak_impact_percentage']:.1f}%\")\n",
    "print(f\"Recovery Period: {impact['recovery_months']} months\")\n",
    "print(f\"Full Recovery Achieved: {'Yes' if impact['full_recovery'] else 'No'}\")\n",
    "\n",
    "print(\"\\nStatistical Tests:\")\n",
    "ttest = covid_results['statistical_tests']['pre_vs_post_ttest']\n",
    "print(f\"Pre-COVID vs Post-COVID T-test:\")\n",
    "print(f\"  T-statistic: {ttest['statistic']:.4f}\")\n",
    "print(f\"  P-value: {ttest['p_value']:.6f}\")\n",
    "print(f\"  Significant Difference: {'Yes' if ttest['significant_difference'] else 'No'}\")"
   ]
  },
  {
   "cell_type": "code",
   "execution_count": null,
   "metadata": {},
   "outputs": [],
   "source": [
    "# Visualize COVID impact\n",
    "viz.plot_covid_impact()"
   ]
  },
  {
   "cell_type": "markdown",
   "metadata": {},
   "source": [
    "## 5. Seasonal Analysis {#seasonal}\n",
    "\n",
    "Let's identify seasonal patterns in unemployment data."
   ]
  },
  {
   "cell_type": "code",
   "execution_count": null,
   "metadata": {},
   "outputs": [],
   "source": [
    "# Perform seasonal analysis\n",
    "seasonal_results = analyzer.seasonal_analysis()\n",
    "\n",
    "print(\"=== SEASONAL ANALYSIS RESULTS ===\")\n",
    "\n",
    "print(\"\\nSeasonal Summary:\")\n",
    "summary = seasonal_results['seasonal_summary']\n",
    "print(f\"Seasonal Range: {summary['seasonal_range']:.2f} percentage points\")\n",
    "print(f\"Peak Month: {summary['peak_month']['name']} (Month {summary['peak_month']['number']})\")\n",
    "print(f\"Low Month: {summary['low_month']['name']} (Month {summary['low_month']['number']})\")\n",
    "\n",
    "seasonality_test = summary['seasonality_test']\n",
    "print(f\"\\nSeasonality Test (Kruskal-Wallis):\")\n",
    "print(f\"  Statistic: {seasonality_test['kruskal_statistic']:.4f}\")\n",
    "print(f\"  P-value: {seasonality_test['p_value']:.6f}\")\n",
    "print(f\"  Significant Seasonality: {'Yes' if seasonality_test['is_seasonal'] else 'No'}\")\n",
    "\n",
    "print(\"\\nMonthly Statistics (excluding COVID period):\")\n",
    "monthly_stats = seasonal_results['monthly_statistics']\n",
    "for month, stats in monthly_stats.items():\n",
    "    month_name = {1: 'January', 2: 'February', 3: 'March', 4: 'April',\n",
    "                  5: 'May', 6: 'June', 7: 'July', 8: 'August',\n",
    "                  9: 'September', 10: 'October', 11: 'November', 12: 'December'}[month]\n",
    "    print(f\"  {month_name}: {stats['mean']:.2f}% (±{stats['std']:.2f})\")"
   ]
  },
  {
   "cell_type": "code",
   "execution_count": null,
   "metadata": {},
   "outputs": [],
   "source": [
    "# Visualize seasonal patterns\n",
    "viz.plot_seasonal_analysis()"
   ]
  },
  {
   "cell_type": "markdown",
   "metadata": {},
   "source": [
    "## 6. Policy Insights {#policy}\n",
    "\n",
    "Based on our analysis, let's generate policy insights and recommendations."
   ]
  },
  {
   "cell_type": "code",
   "execution_count": null,
   "metadata": {},
   "outputs": [],
   "source": [
    "# Generate policy insights\n",
    "policy_results = analyzer.policy_insights()\n",
    "\n",
    "print(\"=== POLICY INSIGHTS AND RECOMMENDATIONS ===\")\n",
    "\n",
    "print(\"\\nSummary Metrics:\")\n",
    "metrics = policy_results['summary_metrics']\n",
    "print(f\"Current Rate: {metrics['current_rate']:.1f}%\")\n",
    "print(f\"Historical Average: {metrics['historical_average']:.1f}%\")\n",
    "print(f\"COVID Peak: {metrics['covid_peak']:.1f}%\")\n",
    "print(f\"Recovery Status: {metrics['recovery_status']}\")\n",
    "\n",
    "print(\"\\nKey Insights:\")\n",
    "for i, insight in enumerate(policy_results['insights'], 1):\n",
    "    print(f\"\\n{i}. {insight['category']} (Priority: {insight['priority']})\")\n",
    "    print(f\"   Finding: {insight['finding']}\")\n",
    "    print(f\"   Recommendation: {insight['recommendation']}\")"
   ]
  },
  {
   "cell_type": "code",
   "execution_count": null,
   "metadata": {},
   "outputs": [],
   "source": [
    "# Perform volatility analysis\n",
    "volatility_results = analyzer.volatility_analysis()\n",
    "\n",
    "print(\"=== VOLATILITY ANALYSIS ===\")\n",
    "\n",
    "print(\"\\nPeriod Volatility:\")\n",
    "for period, stats in volatility_results['period_volatility'].items():\n",
    "    period_name = period.replace('_', ' ').title()\n",
    "    print(f\"\\n{period_name}:\")\n",
    "    print(f\"  Standard Deviation: {stats['standard_deviation']:.2f}%\")\n",
    "    print(f\"  Coefficient of Variation: {stats['coefficient_of_variation']:.2f}\")\n",
    "    print(f\"  Range: {stats['range']:.2f} percentage points\")\n",
    "    print(f\"  Interquartile Range: {stats['interquartile_range']:.2f} percentage points\")\n",
    "\n",
    "print(\"\\nOverall Volatility:\")\n",
    "overall = volatility_results['overall_volatility']\n",
    "print(f\"Total Range: {overall['total_range']:.2f} percentage points\")\n",
    "print(f\"Overall Standard Deviation: {overall['overall_std']:.2f}%\")\n",
    "print(f\"Coefficient of Variation: {overall['coefficient_of_variation']:.2f}\")"
   ]
  },
  {
   "cell_type": "markdown",
   "metadata": {},
   "source": [
    "## 7. Comprehensive Dashboard\n",
    "\n",
    "Let's create a comprehensive dashboard showing all key findings."
   ]
  },
  {
   "cell_type": "code",
   "execution_count": null,
   "metadata": {},
   "outputs": [],
   "source": [
    "# Create comprehensive dashboard\n",
    "viz.create_dashboard()"
   ]
  },
  {
   "cell_type": "markdown",
   "metadata": {},
   "source": [
    "## 8. Conclusions {#conclusions}\n",
    "\n",
    "Based on our comprehensive analysis of unemployment data from 2018-2024, we can draw several important conclusions:\n",
    "\n",
    "### Key Findings:\n",
    "\n",
    "1. **COVID-19 Impact**: The pandemic caused an unprecedented spike in unemployment from 3.5% to 14.8% in just two months (February to April 2020), representing a 320% increase.\n",
    "\n",
    "2. **Rapid Recovery**: Despite the severe initial impact, recovery was faster than historical recessions, with unemployment falling from 14.8% to 6.3% within 8 months.\n",
    "\n",
    "3. **Return to Baseline**: By late 2021, unemployment had returned to pre-pandemic levels, demonstrating the effectiveness of policy interventions.\n",
    "\n",
    "4. **Seasonal Patterns**: Normal periods show typical seasonal patterns with slightly higher unemployment in winter months.\n",
    "\n",
    "5. **Current Status**: Post-recovery unemployment has stabilized around 3.7-4.0%, similar to pre-pandemic levels.\n",
    "\n",
    "### Policy Implications:\n",
    "\n",
    "1. **Emergency Preparedness**: The need for flexible unemployment insurance systems and rapid-response economic frameworks.\n",
    "\n",
    "2. **Intervention Effectiveness**: The combination of fiscal stimulus and monetary policy proved highly effective in accelerating recovery.\n",
    "\n",
    "3. **Long-term Resilience**: Investment in labor market adaptability and social safety nets is crucial for future crisis preparedness.\n",
    "\n",
    "4. **Current Focus**: With unemployment at historically low levels, policy focus can shift to inflation control and sustainable growth.\n",
    "\n",
    "### Recommendations:\n",
    "\n",
    "- Maintain flexible policy frameworks for future crisis response\n",
    "- Continue monitoring leading indicators for early intervention\n",
    "- Invest in job retraining and reskilling programs\n",
    "- Strengthen social safety nets based on lessons learned from COVID-19\n",
    "- Focus on sustainable employment growth and economic stability"
   ]
  }
 ],
 "metadata": {
  "kernelspec": {
   "display_name": "Python 3",
   "language": "python",
   "name": "python3"
  },
  "language_info": {
   "codemirror_mode": {
    "name": "ipython",
    "version": 3
   },
   "file_extension": ".py",
   "mimetype": "text/x-python",
   "name": "python",
   "nbconvert_exporter": "python",
   "pygments_lexer": "ipython3",
   "version": "3.8.5"
  }
 },
 "nbformat": 4,
 "nbformat_minor": 4
}